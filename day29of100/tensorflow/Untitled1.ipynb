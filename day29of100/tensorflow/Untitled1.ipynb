{
 "cells": [
  {
   "cell_type": "code",
   "execution_count": 1,
   "id": "e41682b4",
   "metadata": {},
   "outputs": [],
   "source": [
    "import tensorflow as tf"
   ]
  },
  {
   "cell_type": "code",
   "execution_count": 2,
   "id": "1f56f53a",
   "metadata": {},
   "outputs": [
    {
     "name": "stdout",
     "output_type": "stream",
     "text": [
      "tf.Tensor(4, shape=(), dtype=int32)\n"
     ]
    }
   ],
   "source": [
    "tensor_zero_d = tf.constant(4)\n",
    "print(tensor_zero_d)"
   ]
  },
  {
   "cell_type": "code",
   "execution_count": 4,
   "id": "1db4c67f",
   "metadata": {},
   "outputs": [
    {
     "name": "stdout",
     "output_type": "stream",
     "text": [
      "tf.Tensor([ 2  0 -3 10 90], shape=(5,), dtype=int32)\n"
     ]
    }
   ],
   "source": [
    "tensor_one_d = tf.constant([2,0,-3, 10 , 90])\n",
    "print(tensor_one_d)"
   ]
  },
  {
   "cell_type": "code",
   "execution_count": 17,
   "id": "498ba06a",
   "metadata": {},
   "outputs": [
    {
     "name": "stdout",
     "output_type": "stream",
     "text": [
      "tf.Tensor(\n",
      "[[[  1   2   3]\n",
      "  [  4   5   6]\n",
      "  [  7   8   9]]\n",
      "\n",
      " [[  1   2   3]\n",
      "  [  4   5   6]\n",
      "  [  7  25   9]]\n",
      "\n",
      " [[  1   2   3]\n",
      "  [  4   5   6]\n",
      "  [  7   8 145]]], shape=(3, 3, 3), dtype=int32)\n"
     ]
    }
   ],
   "source": [
    "tensor_two_d= tf.constant([\n",
    "    [[1,2,3],[4,5,6],[7,8,9]],\n",
    "    [[1,2,3],[4,5,6],[7,25,9]],\n",
    "    [[1,2,3],[4,5,6],[7,8,145]]\n",
    "])\n",
    "# print(tensor_two_d)\n",
    "print(tensor_two_d)"
   ]
  },
  {
   "cell_type": "code",
   "execution_count": 16,
   "id": "63ac96e8",
   "metadata": {},
   "outputs": [
    {
     "name": "stdout",
     "output_type": "stream",
     "text": [
      "tf.Tensor(\n",
      "[[[[  1   2   3]\n",
      "   [  4   5   6]\n",
      "   [  7   8   9]]\n",
      "\n",
      "  [[  1   2   3]\n",
      "   [  4   5   6]\n",
      "   [  7  25   9]]\n",
      "\n",
      "  [[  1   2   3]\n",
      "   [  4   5   6]\n",
      "   [  7   8 145]]]\n",
      "\n",
      "\n",
      " [[[  1   2   3]\n",
      "   [  4   5   6]\n",
      "   [  7   8   9]]\n",
      "\n",
      "  [[  1   2   3]\n",
      "   [  4   5   6]\n",
      "   [  7  25   9]]\n",
      "\n",
      "  [[  1   2   3]\n",
      "   [  4   5   6]\n",
      "   [  7   8 145]]]\n",
      "\n",
      "\n",
      " [[[  1   2   3]\n",
      "   [  4   5   6]\n",
      "   [  7   8   9]]\n",
      "\n",
      "  [[  1   2   3]\n",
      "   [  4   5   6]\n",
      "   [  7  25   9]]\n",
      "\n",
      "  [[  1   2   3]\n",
      "   [  4   5   6]\n",
      "   [  7   8 145]]]], shape=(3, 3, 3, 3), dtype=int32)\n"
     ]
    }
   ],
   "source": [
    "tensor_four_d = tf.constant([\n",
    "[\n",
    "    [[1,2,3],[4,5,6],[7,8,9]],\n",
    "    [[1,2,3],[4,5,6],[7,25,9]],\n",
    "    [[1,2,3],[4,5,6],[7,8,145]],\n",
    "],\n",
    "[\n",
    "    [[1,2,3],[4,5,6],[7,8,9]],\n",
    "    [[1,2,3],[4,5,6],[7,25,9]],\n",
    "    [[1,2,3],[4,5,6],[7,8,145]],\n",
    "],\n",
    "[\n",
    "    [[1,2,3],[4,5,6],[7,8,9]],\n",
    "    [[1,2,3],[4,5,6],[7,25,9]],\n",
    "    [[1,2,3],[4,5,6],[7,8,145]],\n",
    "],\n",
    "])\n",
    "print(tensor_four_d)"
   ]
  },
  {
   "cell_type": "code",
   "execution_count": null,
   "id": "0a9bc75c",
   "metadata": {},
   "outputs": [],
   "source": []
  }
 ],
 "metadata": {
  "kernelspec": {
   "display_name": "Python 3 (ipykernel)",
   "language": "python",
   "name": "python3"
  },
  "language_info": {
   "codemirror_mode": {
    "name": "ipython",
    "version": 3
   },
   "file_extension": ".py",
   "mimetype": "text/x-python",
   "name": "python",
   "nbconvert_exporter": "python",
   "pygments_lexer": "ipython3",
   "version": "3.10.9"
  }
 },
 "nbformat": 4,
 "nbformat_minor": 5
}
