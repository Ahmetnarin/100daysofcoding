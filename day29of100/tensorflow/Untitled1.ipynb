{
 "cells": [
  {
   "cell_type": "code",
   "execution_count": 3,
   "id": "e41682b4",
   "metadata": {},
   "outputs": [],
   "source": [
    "import tensorflow as tf"
   ]
  },
  {
   "cell_type": "code",
   "execution_count": 36,
   "id": "1f56f53a",
   "metadata": {},
   "outputs": [
    {
     "name": "stdout",
     "output_type": "stream",
     "text": [
      "tf.Tensor(4, shape=(), dtype=int32)\n"
     ]
    }
   ],
   "source": [
    "tensor_zero_d = tf.constant(4)\n",
    "print(tensor_zero_d)"
   ]
  },
  {
   "cell_type": "code",
   "execution_count": 37,
   "id": "1db4c67f",
   "metadata": {},
   "outputs": [
    {
     "name": "stdout",
     "output_type": "stream",
     "text": [
      "tf.Tensor([ 2  0 -3 10 90], shape=(5,), dtype=int32)\n"
     ]
    }
   ],
   "source": [
    "tensor_one_d = tf.constant([2,0,-3, 10 , 90])\n",
    "print(tensor_one_d)"
   ]
  },
  {
   "cell_type": "code",
   "execution_count": 38,
   "id": "498ba06a",
   "metadata": {},
   "outputs": [
    {
     "name": "stdout",
     "output_type": "stream",
     "text": [
      "tf.Tensor(\n",
      "[[[  1   2   3]\n",
      "  [  4   5   6]\n",
      "  [  7   8   9]]\n",
      "\n",
      " [[  1   2   3]\n",
      "  [  4   5   6]\n",
      "  [  7  25   9]]\n",
      "\n",
      " [[  1   2   3]\n",
      "  [  4   5   6]\n",
      "  [  7   8 145]]], shape=(3, 3, 3), dtype=int32)\n"
     ]
    }
   ],
   "source": [
    "tensor_two_d= tf.constant([\n",
    "    [[1,2,3],[4,5,6],[7,8,9]],\n",
    "    [[1,2,3],[4,5,6],[7,25,9]],\n",
    "    [[1,2,3],[4,5,6],[7,8,145]]\n",
    "])\n",
    "# print(tensor_two_d)\n",
    "print(tensor_two_d)"
   ]
  },
  {
   "cell_type": "code",
   "execution_count": 39,
   "id": "63ac96e8",
   "metadata": {},
   "outputs": [
    {
     "name": "stdout",
     "output_type": "stream",
     "text": [
      "tf.Tensor(\n",
      "[[[[  1.   2.   3.]\n",
      "   [  4.   5.   6.]\n",
      "   [  7.   8.   9.]]\n",
      "\n",
      "  [[  1.   2.   3.]\n",
      "   [  4.   5.   6.]\n",
      "   [  7.  25.   9.]]\n",
      "\n",
      "  [[  1.   2.   3.]\n",
      "   [  4.   5.   6.]\n",
      "   [  7.   8. 145.]]]\n",
      "\n",
      "\n",
      " [[[  1.   2.   3.]\n",
      "   [  4.   5.   6.]\n",
      "   [  7.   8.   9.]]\n",
      "\n",
      "  [[  1.   2.   3.]\n",
      "   [  4.   5.   6.]\n",
      "   [  7.  25.   9.]]\n",
      "\n",
      "  [[  1.   2.   3.]\n",
      "   [  4.   5.   6.]\n",
      "   [  7.   8. 145.]]]\n",
      "\n",
      "\n",
      " [[[  1.   2.   3.]\n",
      "   [  4.   5.   6.]\n",
      "   [  7.   8.   9.]]\n",
      "\n",
      "  [[  1.   2.   3.]\n",
      "   [  4.   5.   6.]\n",
      "   [  7.  25.   9.]]\n",
      "\n",
      "  [[  1.   2.   3.]\n",
      "   [  4.   5.   6.]\n",
      "   [  7.   8. 145.]]]], shape=(3, 3, 3, 3), dtype=float64)\n"
     ]
    }
   ],
   "source": [
    "tensor_four_d = tf.constant([\n",
    "[\n",
    "    [[1,2,3],[4,5,6],[7,8,9]],\n",
    "    [[1,2,3],[4,5,6],[7,25,9]],\n",
    "    [[1,2,3],[4,5,6],[7,8,145]],\n",
    "],\n",
    "[\n",
    "    [[1,2,3],[4,5,6],[7,8,9]],\n",
    "    [[1,2,3],[4,5,6],[7,25,9]],\n",
    "    [[1,2,3],[4,5,6],[7,8,145]],\n",
    "],\n",
    "[\n",
    "    [[1,2,3],[4,5,6],[7,8,9]],\n",
    "    [[1,2,3],[4,5,6],[7,25,9]],\n",
    "    [[1,2,3],[4,5,6],[7,8,145]],\n",
    "],\n",
    "],dtype=tf.float64)\n",
    "print(tensor_four_d)"
   ]
  },
  {
   "cell_type": "code",
   "execution_count": 40,
   "id": "0a9bc75c",
   "metadata": {},
   "outputs": [
    {
     "name": "stdout",
     "output_type": "stream",
     "text": [
      "tf.Tensor([b'Hello world' b'hi'], shape=(2,), dtype=string)\n"
     ]
    }
   ],
   "source": [
    "tensor_string = tf.constant([\"Hello world\", \"hi\"])\n",
    "print(tensor_string)"
   ]
  },
  {
   "cell_type": "code",
   "execution_count": 41,
   "id": "f6950108",
   "metadata": {},
   "outputs": [
    {
     "name": "stdout",
     "output_type": "stream",
     "text": [
      "[1 2 4]\n"
     ]
    }
   ],
   "source": [
    "import numpy as np \n",
    "np_array = np.array([1,2,4])\n",
    "print(np_array)"
   ]
  },
  {
   "cell_type": "code",
   "execution_count": 43,
   "id": "63d69fe5",
   "metadata": {},
   "outputs": [
    {
     "name": "stdout",
     "output_type": "stream",
     "text": [
      "tf.Tensor(\n",
      "[[3. 0. 0. 0. 0.]\n",
      " [0. 3. 0. 0. 0.]\n",
      " [0. 0. 3. 0. 0.]\n",
      " [0. 0. 0. 3. 0.]\n",
      " [0. 0. 0. 0. 3.]], shape=(5, 5), dtype=float32)\n"
     ]
    }
   ],
   "source": [
    "my_eye = tf.eye(5)\n",
    "print(3*my_eye)"
   ]
  },
  {
   "cell_type": "code",
   "execution_count": 53,
   "id": "1cbd4d5b",
   "metadata": {},
   "outputs": [
    {
     "name": "stdout",
     "output_type": "stream",
     "text": [
      "tf.Tensor(\n",
      "[[[[1. 0. 0. 0. 0.]\n",
      "   [0. 1. 0. 0. 0.]\n",
      "   [0. 0. 1. 0. 0.]\n",
      "   [0. 0. 0. 1. 0.]\n",
      "   [0. 0. 0. 0. 1.]]\n",
      "\n",
      "  [[1. 0. 0. 0. 0.]\n",
      "   [0. 1. 0. 0. 0.]\n",
      "   [0. 0. 1. 0. 0.]\n",
      "   [0. 0. 0. 1. 0.]\n",
      "   [0. 0. 0. 0. 1.]]\n",
      "\n",
      "  [[1. 0. 0. 0. 0.]\n",
      "   [0. 1. 0. 0. 0.]\n",
      "   [0. 0. 1. 0. 0.]\n",
      "   [0. 0. 0. 1. 0.]\n",
      "   [0. 0. 0. 0. 1.]]\n",
      "\n",
      "  [[1. 0. 0. 0. 0.]\n",
      "   [0. 1. 0. 0. 0.]\n",
      "   [0. 0. 1. 0. 0.]\n",
      "   [0. 0. 0. 1. 0.]\n",
      "   [0. 0. 0. 0. 1.]]]\n",
      "\n",
      "\n",
      " [[[1. 0. 0. 0. 0.]\n",
      "   [0. 1. 0. 0. 0.]\n",
      "   [0. 0. 1. 0. 0.]\n",
      "   [0. 0. 0. 1. 0.]\n",
      "   [0. 0. 0. 0. 1.]]\n",
      "\n",
      "  [[1. 0. 0. 0. 0.]\n",
      "   [0. 1. 0. 0. 0.]\n",
      "   [0. 0. 1. 0. 0.]\n",
      "   [0. 0. 0. 1. 0.]\n",
      "   [0. 0. 0. 0. 1.]]\n",
      "\n",
      "  [[1. 0. 0. 0. 0.]\n",
      "   [0. 1. 0. 0. 0.]\n",
      "   [0. 0. 1. 0. 0.]\n",
      "   [0. 0. 0. 1. 0.]\n",
      "   [0. 0. 0. 0. 1.]]\n",
      "\n",
      "  [[1. 0. 0. 0. 0.]\n",
      "   [0. 1. 0. 0. 0.]\n",
      "   [0. 0. 1. 0. 0.]\n",
      "   [0. 0. 0. 1. 0.]\n",
      "   [0. 0. 0. 0. 1.]]]], shape=(2, 4, 5, 5), dtype=float32)\n"
     ]
    }
   ],
   "source": [
    "eye_tensor = tf.eye(\n",
    "    num_rows = 5,\n",
    "    num_columns = None,\n",
    "    batch_shape = [2,4],\n",
    "    dtype  = tf.dtypes.float32,\n",
    "    name = None\n",
    ")\n",
    "print(eye_tensor)"
   ]
  },
  {
   "cell_type": "code",
   "execution_count": 68,
   "id": "3050839b",
   "metadata": {},
   "outputs": [
    {
     "name": "stdout",
     "output_type": "stream",
     "text": [
      "tf.Tensor(\n",
      "[[[10 10 10 10 10 10 10 10 10 10]\n",
      "  [10 10 10 10 10 10 10 10 10 10]\n",
      "  [10 10 10 10 10 10 10 10 10 10]]\n",
      "\n",
      " [[10 10 10 10 10 10 10 10 10 10]\n",
      "  [10 10 10 10 10 10 10 10 10 10]\n",
      "  [10 10 10 10 10 10 10 10 10 10]]], shape=(2, 3, 10), dtype=int32)\n"
     ]
    }
   ],
   "source": [
    "my_scalar = tf.fill(\n",
    "    [2,3,10],10,\n",
    "    name = None\n",
    "    )\n",
    "print(my_scalar)"
   ]
  },
  {
   "cell_type": "code",
   "execution_count": 74,
   "id": "051bc975",
   "metadata": {},
   "outputs": [
    {
     "name": "stdout",
     "output_type": "stream",
     "text": [
      "tf.Tensor(\n",
      "[[[0 0 0 0 0 0 0 0 0 0]\n",
      "  [0 0 0 0 0 0 0 0 0 0]\n",
      "  [0 0 0 0 0 0 0 0 0 0]\n",
      "  [0 0 0 0 0 0 0 0 0 0]\n",
      "  [0 0 0 0 0 0 0 0 0 0]]\n",
      "\n",
      " [[0 0 0 0 0 0 0 0 0 0]\n",
      "  [0 0 0 0 0 0 0 0 0 0]\n",
      "  [0 0 0 0 0 0 0 0 0 0]\n",
      "  [0 0 0 0 0 0 0 0 0 0]\n",
      "  [0 0 0 0 0 0 0 0 0 0]]], shape=(2, 5, 10), dtype=int16)\n"
     ]
    }
   ],
   "source": [
    "my_zeros_matrix =  tf.zeros(\n",
    "    [2,5,10],\n",
    "    name = None,\n",
    "    dtype  = tf.dtypes.int16,   \n",
    ")\n",
    "print(my_ones)"
   ]
  },
  {
   "cell_type": "code",
   "execution_count": 76,
   "id": "b3fe625e",
   "metadata": {},
   "outputs": [
    {
     "name": "stdout",
     "output_type": "stream",
     "text": [
      "tf.Tensor(\n",
      "[[[1 1 1 1 1 1 1 1 1 1]\n",
      "  [1 1 1 1 1 1 1 1 1 1]\n",
      "  [1 1 1 1 1 1 1 1 1 1]\n",
      "  [1 1 1 1 1 1 1 1 1 1]\n",
      "  [1 1 1 1 1 1 1 1 1 1]]\n",
      "\n",
      " [[1 1 1 1 1 1 1 1 1 1]\n",
      "  [1 1 1 1 1 1 1 1 1 1]\n",
      "  [1 1 1 1 1 1 1 1 1 1]\n",
      "  [1 1 1 1 1 1 1 1 1 1]\n",
      "  [1 1 1 1 1 1 1 1 1 1]]], shape=(2, 5, 10), dtype=int16)\n"
     ]
    }
   ],
   "source": [
    "ones_line_tensor = tf.ones_like(my_ones)\n",
    "print(ones_lie_tensor)\n"
   ]
  },
  {
   "cell_type": "code",
   "execution_count": 79,
   "id": "c7790bfd",
   "metadata": {},
   "outputs": [
    {
     "name": "stdout",
     "output_type": "stream",
     "text": [
      "tf.Tensor(\n",
      "[[1 1 1]\n",
      " [2 2 2]], shape=(2, 3), dtype=int32)\n",
      "tf.Tensor(2, shape=(), dtype=int32)\n"
     ]
    }
   ],
   "source": [
    "t = tf.constant([[1,1,1],[2,2,2]])\n",
    "print(t)\n",
    "print(tf.rank(t))"
   ]
  },
  {
   "cell_type": "code",
   "execution_count": 81,
   "id": "9da88405",
   "metadata": {},
   "outputs": [
    {
     "name": "stdout",
     "output_type": "stream",
     "text": [
      "tf.Tensor(3, shape=(), dtype=int32)\n"
     ]
    }
   ],
   "source": [
    "# shape of tensor 't' is [2, 2, 3]\n",
    "t = tf.constant([[[1, 1, 1], [2, 2, 2]], [[3, 3, 3], [4, 4, 4]]])\n",
    "rank_of_matrix = tf.rank(t)  # 3\n",
    "print(rank_of_matrix)"
   ]
  },
  {
   "cell_type": "code",
   "execution_count": 5,
   "id": "e55a1370",
   "metadata": {},
   "outputs": [
    {
     "data": {
      "text/plain": [
       "<tf.Tensor: shape=(), dtype=float32, numpy=6.0>"
      ]
     },
     "execution_count": 5,
     "metadata": {},
     "output_type": "execute_result"
    }
   ],
   "source": [
    "t = tf.constant([[1,1,1],[2,2,2]])\n",
    "tf.size(t,out_type=tf.float32)"
   ]
  },
  {
   "cell_type": "code",
   "execution_count": 16,
   "id": "89d77f39",
   "metadata": {},
   "outputs": [
    {
     "name": "stdout",
     "output_type": "stream",
     "text": [
      "tf.Tensor(\n",
      "[[50.09677466 51.39580547 49.13299734]\n",
      " [50.0043695  49.28372324 50.59451567]\n",
      " [48.80489337 49.22281957 49.70057739]], shape=(3, 3), dtype=float64)\n"
     ]
    }
   ],
   "source": [
    "import random\n",
    "random_tensor = tf.random.normal(\n",
    "    [3,3],\n",
    "    mean =50,\n",
    "    stddev = 1.0,\n",
    "    dtype=tf.dtypes.float64,\n",
    "    seed = None,\n",
    "    name = None  \n",
    "\n",
    ")\n",
    "print(random_tensor)"
   ]
  },
  {
   "cell_type": "code",
   "execution_count": null,
   "id": "8ec60ca0",
   "metadata": {},
   "outputs": [],
   "source": []
  }
 ],
 "metadata": {
  "kernelspec": {
   "display_name": "Python 3 (ipykernel)",
   "language": "python",
   "name": "python3"
  },
  "language_info": {
   "codemirror_mode": {
    "name": "ipython",
    "version": 3
   },
   "file_extension": ".py",
   "mimetype": "text/x-python",
   "name": "python",
   "nbconvert_exporter": "python",
   "pygments_lexer": "ipython3",
   "version": "3.10.9"
  }
 },
 "nbformat": 4,
 "nbformat_minor": 5
}
