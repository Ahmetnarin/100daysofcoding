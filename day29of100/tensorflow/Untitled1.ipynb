{
 "cells": [
  {
   "cell_type": "code",
   "execution_count": 129,
   "id": "e41682b4",
   "metadata": {},
   "outputs": [],
   "source": [
    "import tensorflow as tf"
   ]
  },
  {
   "cell_type": "code",
   "execution_count": 130,
   "id": "1f56f53a",
   "metadata": {},
   "outputs": [
    {
     "name": "stdout",
     "output_type": "stream",
     "text": [
      "tf.Tensor(4, shape=(), dtype=int32)\n"
     ]
    }
   ],
   "source": [
    "tensor_zero_d = tf.constant(4)\n",
    "print(tensor_zero_d)"
   ]
  },
  {
   "cell_type": "code",
   "execution_count": 131,
   "id": "1db4c67f",
   "metadata": {},
   "outputs": [
    {
     "name": "stdout",
     "output_type": "stream",
     "text": [
      "tf.Tensor([ 2  0 -3 10 90], shape=(5,), dtype=int32)\n"
     ]
    }
   ],
   "source": [
    "tensor_one_d = tf.constant([2,0,-3, 10 , 90])\n",
    "print(tensor_one_d)"
   ]
  },
  {
   "cell_type": "code",
   "execution_count": 132,
   "id": "498ba06a",
   "metadata": {},
   "outputs": [
    {
     "name": "stdout",
     "output_type": "stream",
     "text": [
      "tf.Tensor(\n",
      "[[[  1   2   3]\n",
      "  [  4   5   6]\n",
      "  [  7   8   9]]\n",
      "\n",
      " [[  1   2   3]\n",
      "  [  4   5   6]\n",
      "  [  7  25   9]]\n",
      "\n",
      " [[  1   2   3]\n",
      "  [  4   5   6]\n",
      "  [  7   8 145]]], shape=(3, 3, 3), dtype=int32)\n",
      "tf.Tensor(\n",
      "[[4 5]\n",
      " [7 8]], shape=(2, 2), dtype=int32)\n",
      "tf.Tensor([1 2 3], shape=(3,), dtype=int32)\n"
     ]
    }
   ],
   "source": [
    "tensor_two_d= tf.constant([\n",
    "    [[1,2,3],[4,5,6],[7,8,9]],\n",
    "    [[1,2,3],[4,5,6],[7,25,9]],\n",
    "    [[1,2,3],[4,5,6],[7,8,145]]\n",
    "])\n",
    "print(tensor_two_d)\n",
    "print(tensor_two_d[0, 1:,0:2])\n",
    "print(tensor_two_d[0, 0,:])"
   ]
  },
  {
   "cell_type": "code",
   "execution_count": 133,
   "id": "63ac96e8",
   "metadata": {},
   "outputs": [
    {
     "name": "stdout",
     "output_type": "stream",
     "text": [
      "tf.Tensor(\n",
      "[[[[  1.   2.   3.]\n",
      "   [  4.   5.   6.]\n",
      "   [  7.   8.   9.]]\n",
      "\n",
      "  [[  1.   2.   3.]\n",
      "   [  4.   5.   6.]\n",
      "   [  7.  25.   9.]]\n",
      "\n",
      "  [[  1.   2.   3.]\n",
      "   [  4.   5.   6.]\n",
      "   [  7.   8. 145.]]]\n",
      "\n",
      "\n",
      " [[[  1.   2.   3.]\n",
      "   [  4.   5.   6.]\n",
      "   [  7.   8.   9.]]\n",
      "\n",
      "  [[  1.   2.   3.]\n",
      "   [  4.   5.   6.]\n",
      "   [  7.  25.   9.]]\n",
      "\n",
      "  [[  1.   2.   3.]\n",
      "   [  4.   5.   6.]\n",
      "   [  7.   8. 145.]]]\n",
      "\n",
      "\n",
      " [[[  1.   2.   3.]\n",
      "   [  4.   5.   6.]\n",
      "   [  7.   8.   9.]]\n",
      "\n",
      "  [[  1.   2.   3.]\n",
      "   [  4.   5.   6.]\n",
      "   [  7.  25.   9.]]\n",
      "\n",
      "  [[  1.   2.   3.]\n",
      "   [  4.   5.   6.]\n",
      "   [  7.   8. 145.]]]], shape=(3, 3, 3, 3), dtype=float64)\n",
      "4\n"
     ]
    }
   ],
   "source": [
    "tensor_four_d = tf.constant([\n",
    "[\n",
    "    [[1,2,3],[4,5,6],[7,8,9]],\n",
    "    [[1,2,3],[4,5,6],[7,25,9]],\n",
    "    [[1,2,3],[4,5,6],[7,8,145]],\n",
    "],\n",
    "[\n",
    "    [[1,2,3],[4,5,6],[7,8,9]],\n",
    "    [[1,2,3],[4,5,6],[7,25,9]],\n",
    "    [[1,2,3],[4,5,6],[7,8,145]],\n",
    "],\n",
    "[\n",
    "    [[1,2,3],[4,5,6],[7,8,9]],\n",
    "    [[1,2,3],[4,5,6],[7,25,9]],\n",
    "    [[1,2,3],[4,5,6],[7,8,145]],\n",
    "],\n",
    "],dtype=tf.float64)\n",
    "print(tensor_four_d)\n",
    "print(tensor_four_d.ndim)"
   ]
  },
  {
   "cell_type": "code",
   "execution_count": 134,
   "id": "0a9bc75c",
   "metadata": {},
   "outputs": [
    {
     "name": "stdout",
     "output_type": "stream",
     "text": [
      "tf.Tensor([b'Hello world' b'hi'], shape=(2,), dtype=string)\n"
     ]
    }
   ],
   "source": [
    "tensor_string = tf.constant([\"Hello world\", \"hi\"])\n",
    "print(tensor_string)"
   ]
  },
  {
   "cell_type": "code",
   "execution_count": 135,
   "id": "f6950108",
   "metadata": {},
   "outputs": [
    {
     "name": "stdout",
     "output_type": "stream",
     "text": [
      "[1 2 4]\n"
     ]
    }
   ],
   "source": [
    "import numpy as np \n",
    "np_array = np.array([1,2,4])\n",
    "print(np_array)"
   ]
  },
  {
   "cell_type": "code",
   "execution_count": 136,
   "id": "63d69fe5",
   "metadata": {},
   "outputs": [
    {
     "name": "stdout",
     "output_type": "stream",
     "text": [
      "tf.Tensor(\n",
      "[[3. 0. 0. 0. 0.]\n",
      " [0. 3. 0. 0. 0.]\n",
      " [0. 0. 3. 0. 0.]\n",
      " [0. 0. 0. 3. 0.]\n",
      " [0. 0. 0. 0. 3.]], shape=(5, 5), dtype=float32)\n"
     ]
    }
   ],
   "source": [
    "my_eye = tf.eye(5)\n",
    "print(3*my_eye)"
   ]
  },
  {
   "cell_type": "code",
   "execution_count": 137,
   "id": "1cbd4d5b",
   "metadata": {},
   "outputs": [
    {
     "name": "stdout",
     "output_type": "stream",
     "text": [
      "tf.Tensor(\n",
      "[[[[1. 0. 0. 0. 0.]\n",
      "   [0. 1. 0. 0. 0.]\n",
      "   [0. 0. 1. 0. 0.]\n",
      "   [0. 0. 0. 1. 0.]\n",
      "   [0. 0. 0. 0. 1.]]\n",
      "\n",
      "  [[1. 0. 0. 0. 0.]\n",
      "   [0. 1. 0. 0. 0.]\n",
      "   [0. 0. 1. 0. 0.]\n",
      "   [0. 0. 0. 1. 0.]\n",
      "   [0. 0. 0. 0. 1.]]\n",
      "\n",
      "  [[1. 0. 0. 0. 0.]\n",
      "   [0. 1. 0. 0. 0.]\n",
      "   [0. 0. 1. 0. 0.]\n",
      "   [0. 0. 0. 1. 0.]\n",
      "   [0. 0. 0. 0. 1.]]\n",
      "\n",
      "  [[1. 0. 0. 0. 0.]\n",
      "   [0. 1. 0. 0. 0.]\n",
      "   [0. 0. 1. 0. 0.]\n",
      "   [0. 0. 0. 1. 0.]\n",
      "   [0. 0. 0. 0. 1.]]]\n",
      "\n",
      "\n",
      " [[[1. 0. 0. 0. 0.]\n",
      "   [0. 1. 0. 0. 0.]\n",
      "   [0. 0. 1. 0. 0.]\n",
      "   [0. 0. 0. 1. 0.]\n",
      "   [0. 0. 0. 0. 1.]]\n",
      "\n",
      "  [[1. 0. 0. 0. 0.]\n",
      "   [0. 1. 0. 0. 0.]\n",
      "   [0. 0. 1. 0. 0.]\n",
      "   [0. 0. 0. 1. 0.]\n",
      "   [0. 0. 0. 0. 1.]]\n",
      "\n",
      "  [[1. 0. 0. 0. 0.]\n",
      "   [0. 1. 0. 0. 0.]\n",
      "   [0. 0. 1. 0. 0.]\n",
      "   [0. 0. 0. 1. 0.]\n",
      "   [0. 0. 0. 0. 1.]]\n",
      "\n",
      "  [[1. 0. 0. 0. 0.]\n",
      "   [0. 1. 0. 0. 0.]\n",
      "   [0. 0. 1. 0. 0.]\n",
      "   [0. 0. 0. 1. 0.]\n",
      "   [0. 0. 0. 0. 1.]]]], shape=(2, 4, 5, 5), dtype=float32)\n"
     ]
    }
   ],
   "source": [
    "eye_tensor = tf.eye(\n",
    "    num_rows = 5,\n",
    "    num_columns = None,\n",
    "    batch_shape = [2,4],\n",
    "    dtype  = tf.dtypes.float32,\n",
    "    name = None\n",
    ")\n",
    "print(eye_tensor)"
   ]
  },
  {
   "cell_type": "code",
   "execution_count": 138,
   "id": "3050839b",
   "metadata": {},
   "outputs": [
    {
     "name": "stdout",
     "output_type": "stream",
     "text": [
      "tf.Tensor(\n",
      "[[[10 10 10 10 10 10 10 10 10 10]\n",
      "  [10 10 10 10 10 10 10 10 10 10]\n",
      "  [10 10 10 10 10 10 10 10 10 10]]\n",
      "\n",
      " [[10 10 10 10 10 10 10 10 10 10]\n",
      "  [10 10 10 10 10 10 10 10 10 10]\n",
      "  [10 10 10 10 10 10 10 10 10 10]]], shape=(2, 3, 10), dtype=int32)\n"
     ]
    }
   ],
   "source": [
    "my_scalar = tf.fill(\n",
    "    [2,3,10],10,\n",
    "    name = None\n",
    "    )\n",
    "print(my_scalar)"
   ]
  },
  {
   "cell_type": "code",
   "execution_count": 139,
   "id": "051bc975",
   "metadata": {},
   "outputs": [
    {
     "name": "stdout",
     "output_type": "stream",
     "text": [
      "tf.Tensor(\n",
      "[[0 0 0 0 0]\n",
      " [0 0 0 0 0]\n",
      " [0 0 0 0 0]\n",
      " [0 0 0 0 0]\n",
      " [0 0 0 0 0]], shape=(5, 5), dtype=int32)\n"
     ]
    }
   ],
   "source": [
    "my_zeros_matrix =  tf.zeros(\n",
    "    [5,5],\n",
    "    name = None,\n",
    "    dtype  = tf.dtypes.int32,   \n",
    ")\n",
    "print(my_zeros_matrix)"
   ]
  },
  {
   "cell_type": "code",
   "execution_count": 140,
   "id": "c7790bfd",
   "metadata": {},
   "outputs": [
    {
     "name": "stdout",
     "output_type": "stream",
     "text": [
      "tf.Tensor(\n",
      "[[1 1 1]\n",
      " [2 2 2]], shape=(2, 3), dtype=int32)\n",
      "tf.Tensor(2, shape=(), dtype=int32)\n"
     ]
    }
   ],
   "source": [
    "t = tf.constant([[1,1,1],[2,2,2]])\n",
    "print(t)\n",
    "print(tf.rank(t))"
   ]
  },
  {
   "cell_type": "code",
   "execution_count": 141,
   "id": "9da88405",
   "metadata": {},
   "outputs": [
    {
     "name": "stdout",
     "output_type": "stream",
     "text": [
      "tf.Tensor(3, shape=(), dtype=int32)\n"
     ]
    }
   ],
   "source": [
    "# shape of tensor 't' is [2, 2, 3]\n",
    "t = tf.constant([[[1, 1, 1], [2, 2, 2]], [[3, 3, 3], [4, 4, 4]]])\n",
    "rank_of_matrix = tf.rank(t)  # 3\n",
    "print(rank_of_matrix)"
   ]
  },
  {
   "cell_type": "code",
   "execution_count": 142,
   "id": "e55a1370",
   "metadata": {},
   "outputs": [
    {
     "data": {
      "text/plain": [
       "<tf.Tensor: shape=(), dtype=float32, numpy=6.0>"
      ]
     },
     "execution_count": 142,
     "metadata": {},
     "output_type": "execute_result"
    }
   ],
   "source": [
    "t = tf.constant([[1,1,1],[2,2,2]])\n",
    "tf.size(t,out_type=tf.float32)"
   ]
  },
  {
   "cell_type": "code",
   "execution_count": 143,
   "id": "89d77f39",
   "metadata": {},
   "outputs": [
    {
     "name": "stdout",
     "output_type": "stream",
     "text": [
      "tf.Tensor(\n",
      "[[49.25306461 50.76251697 50.39666384]\n",
      " [49.61930282 51.30323811 51.77153661]\n",
      " [49.85178166 50.57304295 49.05409085]], shape=(3, 3), dtype=float64)\n"
     ]
    }
   ],
   "source": [
    "import random\n",
    "random_tensor = tf.random.normal(\n",
    "    [3,3],\n",
    "    mean =50,\n",
    "    stddev = 1.0,\n",
    "    dtype=tf.dtypes.float64,\n",
    "    seed = None,\n",
    "    name = None  \n",
    "\n",
    ")\n",
    "print(random_tensor)"
   ]
  },
  {
   "cell_type": "code",
   "execution_count": 144,
   "id": "8ec60ca0",
   "metadata": {},
   "outputs": [
    {
     "name": "stdout",
     "output_type": "stream",
     "text": [
      "tf.Tensor(\n",
      "[[133 946]\n",
      " [105 472]], shape=(2, 2), dtype=int32)\n"
     ]
    }
   ],
   "source": [
    "\n",
    "random_tensor=tf.random.uniform(\n",
    "    [2,2],\n",
    "    minval=0,\n",
    "    maxval=1000,\n",
    "    dtype=tf.dtypes.int32,\n",
    "    seed=None,\n",
    "    name=None\n",
    ")\n",
    "print(random_tensor)"
   ]
  },
  {
   "cell_type": "code",
   "execution_count": 145,
   "id": "dd9e7195",
   "metadata": {},
   "outputs": [
    {
     "name": "stdout",
     "output_type": "stream",
     "text": [
      "tf.Tensor([4 3 1], shape=(3,), dtype=int32)\n",
      "tf.Tensor([4 3 2], shape=(3,), dtype=int32)\n",
      "tf.Tensor([4 3 1], shape=(3,), dtype=int32)\n",
      "tf.Tensor([4 3 2], shape=(3,), dtype=int32)\n"
     ]
    }
   ],
   "source": [
    "tf.random.set_seed(5)\n",
    "print(tf.random.uniform(shape=[3,], maxval=5, dtype=tf.int32, seed=10))\n",
    "print(tf.random.uniform(shape=[3,], maxval=5, dtype=tf.int32, seed=10))\n",
    "\n",
    "tf.random.set_seed(5)\n",
    "print(tf.random.uniform(shape=[3,], maxval=5, dtype=tf.int32, seed=10))\n",
    "print(tf.random.uniform(shape=[3,], maxval=5, dtype=tf.int32, seed=10))\n"
   ]
  },
  {
   "cell_type": "code",
   "execution_count": 146,
   "id": "089f79b5",
   "metadata": {},
   "outputs": [
    {
     "name": "stdout",
     "output_type": "stream",
     "text": [
      "tf.Tensor([ 3  6  2  4  6 66  7], shape=(7,), dtype=int32)\n",
      "tf.Tensor([3 6 2 4], shape=(4,), dtype=int32)\n",
      "tf.Tensor([ 6  2  4  6 66], shape=(5,), dtype=int32)\n",
      "tf.Tensor([ 2  4  6 66  7], shape=(5,), dtype=int32)\n"
     ]
    }
   ],
   "source": [
    "tensor_indexed = tf.constant([3,6,2,4,6,66,7])\n",
    "print(tensor_indexed)\n",
    "print(tensor_indexed[0:4])\n",
    "print(tensor_indexed[1:6])\n",
    "print(tensor_indexed[2:])\n"
   ]
  },
  {
   "cell_type": "code",
   "execution_count": 147,
   "id": "34924e53",
   "metadata": {},
   "outputs": [
    {
     "name": "stdout",
     "output_type": "stream",
     "text": [
      "tf.Tensor(\n",
      "[[ 1  2  0]\n",
      " [ 3  5 -1]\n",
      " [ 1  5  6]\n",
      " [ 2  3  8]], shape=(4, 3), dtype=int32)\n",
      "tf.Tensor(\n",
      "[[ 1  2  0]\n",
      " [ 3  5 -1]\n",
      " [ 1  5  6]], shape=(3, 3), dtype=int32)\n",
      "tf.Tensor([2 3 8], shape=(3,), dtype=int32)\n",
      "tf.Tensor([2 5 5 3], shape=(4,), dtype=int32)\n"
     ]
    }
   ],
   "source": [
    "tensor_two_d = tf.constant(\n",
    "    [\n",
    "        [1,2,0],\n",
    "        [3,5,-1],\n",
    "        [1,5,6],\n",
    "        [2,3,8]\n",
    "    ]\n",
    ")\n",
    "print(tensor_two_d)\n",
    "print(tensor_two_d[0:3,:])\n",
    "print(tensor_two_d[3,:])\n",
    "print(tensor_two_d[:,-2])"
   ]
  },
  {
   "cell_type": "code",
   "execution_count": 148,
   "id": "81b11ae8",
   "metadata": {},
   "outputs": [
    {
     "name": "stdout",
     "output_type": "stream",
     "text": [
      "tf.Tensor([2.25 4.  ], shape=(2,), dtype=float32)\n"
     ]
    }
   ],
   "source": [
    "x_abs = tf.constant([-2.25, 4])\n",
    "print(tf.abs(x_abs))"
   ]
  },
  {
   "cell_type": "code",
   "execution_count": 149,
   "id": "d3924c09",
   "metadata": {},
   "outputs": [
    {
     "name": "stdout",
     "output_type": "stream",
     "text": [
      "tf.Tensor(\n",
      "[[ 5.  2.  5.  6.  4.  4. 85.]\n",
      " [ 5.  2.  5.  6.  4.  4. 85.]], shape=(2, 7), dtype=float32)\n",
      "(2, 7)\n",
      "tf.Tensor([7.], shape=(1,), dtype=float32)\n",
      "(1,)\n",
      "tf.Tensor(\n",
      "[[7.]\n",
      " [7.]\n",
      " [7.]\n",
      " [7.]\n",
      " [7.]\n",
      " [7.]\n",
      " [7.]], shape=(7, 1), dtype=float32)\n",
      "(7, 1)\n",
      "tf.Tensor(\n",
      "[[ 35.  14.  35.  42.  28.  28. 595.]\n",
      " [ 35.  14.  35.  42.  28.  28. 595.]], shape=(2, 7), dtype=float32)\n"
     ]
    }
   ],
   "source": [
    "x1= tf.constant([[5,2,5,6,4,4,85], [5,2,5,6,4,4,85]] , dtype=tf.float32)\n",
    "x2 = tf.constant([7], dtype=tf.float32)\n",
    "x2_streched = tf.constant([[7],[7],[7],[7],[7],[7],[7]], dtype=tf.float32)\n",
    "\n",
    "print(x1)\n",
    "print(x1.shape)\n",
    "print(x2)\n",
    "print(x2.shape)\n",
    "print(x2_streched)\n",
    "print(x2_streched.shape)\n",
    "print(tf.math.multiply(x1, x2))"
   ]
  },
  {
   "cell_type": "code",
   "execution_count": 150,
   "id": "5e180e94",
   "metadata": {},
   "outputs": [
    {
     "name": "stdout",
     "output_type": "stream",
     "text": [
      "tf.Tensor(\n",
      "[[ 2 20 30  3  6]\n",
      " [ 3 11 16  1  8]\n",
      " [14 45 23  5 27]], shape=(3, 5), dtype=int32)\n",
      "(3, 5)\n",
      "tf.Tensor([2 2 0 2 2], shape=(5,), dtype=int64)\n",
      "tf.Tensor([0 0], shape=(2,), dtype=int64)\n",
      "tf.Tensor(\n",
      "[[133 946]\n",
      " [105 472]], shape=(2, 2), dtype=int32)\n"
     ]
    }
   ],
   "source": [
    "x_argmax = tf.constant(\n",
    "    [\n",
    "        [2,20,30,3,6],\n",
    "        [3,11,16,1,8],\n",
    "        [14,45,23,5,27]\n",
    "    ]\n",
    ")\n",
    "print(x_argmax)\n",
    "print(x_argmax.shape)\n",
    "print(tf.math.argmax(x_argmax))\n",
    "print(tf.math.argmax(random_tensor))\n",
    "print(random_tensor)"
   ]
  },
  {
   "cell_type": "code",
   "execution_count": 151,
   "id": "67433668",
   "metadata": {},
   "outputs": [
    {
     "name": "stdout",
     "output_type": "stream",
     "text": [
      "tf.Tensor(\n",
      "[[ 2.2368121   3.73198576  0.84409061]\n",
      " [ 0.26348036  2.52896688  1.28593284]\n",
      " [ 1.73894242 -0.98620837  2.0264812 ]], shape=(3, 3), dtype=float64)\n",
      "tf.Tensor(\n",
      "[[ 1.10129119  0.01695981  2.65787672]\n",
      " [ 1.32931166  1.28694533  0.29745246]\n",
      " [ 1.81972057 -1.00005567  1.34865489]], shape=(3, 3), dtype=float64)\n",
      "tf.Tensor(\n",
      "[[2.46338145 0.06329376 2.24348877]\n",
      " [0.35024751 3.25464211 0.38250389]\n",
      " [3.16438929 0.98626327 2.73302379]], shape=(3, 3), dtype=float64)\n"
     ]
    }
   ],
   "source": [
    "# create two matrix \n",
    "import random\n",
    "x1 = tf.random.normal(\n",
    "    [3,3],\n",
    "    mean =1,\n",
    "    stddev = 1.0,\n",
    "    dtype=tf.dtypes.float64,\n",
    "    seed = None,\n",
    "    name = None  \n",
    ")\n",
    "x2 = tf.random.normal(\n",
    "    [3,3],\n",
    "    mean =1,\n",
    "    stddev = 1.0,\n",
    "    dtype=tf.dtypes.float64,\n",
    "    seed = None,\n",
    "    name = None  \n",
    ")\n",
    "multiply_x1andx2 = tf.experimental.numpy.multiply(x1, x2)\n",
    "print(x1)\n",
    "print(x2)\n",
    "print(multiply_x1andx2)\n"
   ]
  },
  {
   "attachments": {},
   "cell_type": "markdown",
   "id": "ca2ee96d",
   "metadata": {},
   "source": [
    "Getting Started\n",
    "Please also see TensorFlow NumPy Guide.\n",
    "\n",
    "In the code snippets below, we will assume that tf.experimental.numpy is imported as tnp and NumPy is imported as np"
   ]
  },
  {
   "cell_type": "code",
   "execution_count": 156,
   "id": "8c498651",
   "metadata": {},
   "outputs": [
    {
     "name": "stdout",
     "output_type": "stream",
     "text": [
      "tf.Tensor(\n",
      "[[ 1  2  0]\n",
      " [ 3  5 -1]\n",
      " [ 1  5  6]\n",
      " [ 2  3  8]], shape=(4, 3), dtype=int32)\n"
     ]
    },
    {
     "data": {
      "text/plain": [
       "TopKV2(values=<tf.Tensor: shape=(4, 2), dtype=int32, numpy=\n",
       "array([[2, 1],\n",
       "       [5, 3],\n",
       "       [6, 5],\n",
       "       [8, 3]])>, indices=<tf.Tensor: shape=(4, 2), dtype=int32, numpy=\n",
       "array([[1, 0],\n",
       "       [1, 0],\n",
       "       [2, 1],\n",
       "       [2, 1]])>)"
      ]
     },
     "execution_count": 156,
     "metadata": {},
     "output_type": "execute_result"
    }
   ],
   "source": [
    "print(tensor_two_d)\n",
    "tf.math.top_k(tensor_two_d, k=2, sorted=True)"
   ]
  },
  {
   "cell_type": "code",
   "execution_count": 158,
   "id": "d7a8c8a3",
   "metadata": {},
   "outputs": [
    {
     "name": "stdout",
     "output_type": "stream",
     "text": [
      "tf.Tensor(\n",
      "[[22. 28.]\n",
      " [49. 64.]], shape=(2, 2), dtype=float32)\n"
     ]
    }
   ],
   "source": [
    "x1 = tf.constant([[1,2,3], [4,5,6]], dtype=tf.float32) # 2x3 * 3x2\n",
    "#create here 3x2 matrix\n",
    "x2 = tf.constant([[1,2],[3,4],[5,6]], dtype=tf.float32)\n",
    "mat_multiply = tf.linalg.matmul(\n",
    "    x1,\n",
    "    x2,\n",
    "    transpose_a=False,\n",
    "    transpose_b=False,\n",
    "    adjoint_a=False,\n",
    "    adjoint_b=False,\n",
    "    a_is_sparse=False,\n",
    "    b_is_sparse=False,\n",
    "    output_type=None,\n",
    "    name=None\n",
    ")\n",
    "print(mat_multiply)"
   ]
  },
  {
   "cell_type": "code",
   "execution_count": null,
   "id": "487f7d69",
   "metadata": {},
   "outputs": [],
   "source": []
  }
 ],
 "metadata": {
  "kernelspec": {
   "display_name": "Python 3 (ipykernel)",
   "language": "python",
   "name": "python3"
  },
  "language_info": {
   "codemirror_mode": {
    "name": "ipython",
    "version": 3
   },
   "file_extension": ".py",
   "mimetype": "text/x-python",
   "name": "python",
   "nbconvert_exporter": "python",
   "pygments_lexer": "ipython3",
   "version": "3.10.9"
  }
 },
 "nbformat": 4,
 "nbformat_minor": 5
}
