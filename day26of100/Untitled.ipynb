{
 "cells": [
  {
   "cell_type": "code",
   "execution_count": 1,
   "id": "49e2cc6b",
   "metadata": {},
   "outputs": [
    {
     "name": "stdout",
     "output_type": "stream",
     "text": [
      "Hello World\n"
     ]
    }
   ],
   "source": [
    "print(\"Hello World\")"
   ]
  },
  {
   "cell_type": "code",
   "execution_count": 6,
   "id": "e84187ec",
   "metadata": {},
   "outputs": [
    {
     "name": "stdout",
     "output_type": "stream",
     "text": [
      "[1, 2, 3]\n",
      "[4]\n"
     ]
    }
   ],
   "source": [
    "numbers = [1,2,3]\n",
    "new_list = []\n",
    "\n",
    "for n in numbers:\n",
    "    add_1 = n+1\n",
    "\n",
    "new_list.append(add_1)\n",
    "\n",
    "print(numbers)\n",
    "print(new_list)\n",
    "\n",
    "\n"
   ]
  },
  {
   "cell_type": "code",
   "execution_count": 7,
   "id": "6c2fd3e1",
   "metadata": {},
   "outputs": [],
   "source": [
    "new_list = [n+1 for n in numbers]"
   ]
  },
  {
   "cell_type": "code",
   "execution_count": 8,
   "id": "2989eaaf",
   "metadata": {},
   "outputs": [
    {
     "name": "stdout",
     "output_type": "stream",
     "text": [
      "[2, 3, 4]\n"
     ]
    }
   ],
   "source": [
    "print(new_list)"
   ]
  },
  {
   "cell_type": "code",
   "execution_count": 15,
   "id": "49ed260e",
   "metadata": {},
   "outputs": [
    {
     "name": "stdout",
     "output_type": "stream",
     "text": [
      "[2, 4, 6, 8]\n"
     ]
    }
   ],
   "source": [
    "double = [x*2 for x in range(1,5)]\n",
    "print(double)"
   ]
  },
  {
   "cell_type": "code",
   "execution_count": 11,
   "id": "a88c39c6",
   "metadata": {},
   "outputs": [
    {
     "name": "stdout",
     "output_type": "stream",
     "text": [
      "[2, 3, 4]\n"
     ]
    }
   ],
   "source": [
    "new_numbers = [n+1 for n in numbers]\n",
    "print(new_numbers)\n"
   ]
  },
  {
   "cell_type": "code",
   "execution_count": 12,
   "id": "1072a186",
   "metadata": {},
   "outputs": [
    {
     "name": "stdout",
     "output_type": "stream",
     "text": [
      "['A', 'h', 'm', 'e', 't']\n"
     ]
    }
   ],
   "source": [
    "name = \"Ahmet\"\n",
    "letters_list = [letter for letter in name]\n",
    "print(letters_list)\n"
   ]
  },
  {
   "cell_type": "code",
   "execution_count": 18,
   "id": "5c438385",
   "metadata": {},
   "outputs": [
    {
     "name": "stdout",
     "output_type": "stream",
     "text": [
      "['Alex', 'Beth', 'Caroline', 'Dave', 'Elanor', 'Freddie']\n"
     ]
    }
   ],
   "source": [
    "names = [\"Alex\", \"Beth\" , \"Caroline\" , \"Dave\", \"Elanor\", \"Freddie\"]\n",
    "print(names)\n"
   ]
  },
  {
   "cell_type": "code",
   "execution_count": 24,
   "id": "29385bb1",
   "metadata": {},
   "outputs": [
    {
     "name": "stdout",
     "output_type": "stream",
     "text": [
      "['CAROLINE', 'ELANOR', 'FREDDIE']\n"
     ]
    }
   ],
   "source": [
    "long_names = [name.upper() for name in names if len(name) > 5]\n",
    "\n",
    "print(long_names)"
   ]
  },
  {
   "cell_type": "code",
   "execution_count": 25,
   "id": "a5baf324",
   "metadata": {},
   "outputs": [
    {
     "name": "stdout",
     "output_type": "stream",
     "text": [
      "[1, 1, 4, 9, 25, 64, 169, 441, 1156, 3025]\n"
     ]
    }
   ],
   "source": [
    "numbers = [1, 1, 2, 3, 5, 8, 13, 21, 34, 55]\n",
    "# 🚨 Do Not Change the code above 👆\n",
    "\n",
    "#Write your 1 line code 👇 below:\n",
    "squared_numbers = [number**2 for number in numbers]\n",
    "#Write your code 👆 above:\n",
    "\n",
    "print(squared_numbers)\n",
    "\n"
   ]
  },
  {
   "cell_type": "code",
   "execution_count": 27,
   "id": "1a47ebff",
   "metadata": {},
   "outputs": [
    {
     "name": "stdout",
     "output_type": "stream",
     "text": [
      "[2, 8, 34]\n"
     ]
    }
   ],
   "source": [
    "numbers = [1, 1, 2, 3, 5, 8, 13, 21, 34, 55]\n",
    "# 🚨 Do Not Change the code above\n",
    "\n",
    "#Write your 1 line code 👇 below:\n",
    "result = [x for x in numbers if x%2 == 0]\n",
    "#Write your code 👆 above:\n",
    "print(result)"
   ]
  },
  {
   "cell_type": "code",
   "execution_count": 64,
   "id": "095ad83c",
   "metadata": {},
   "outputs": [
    {
     "name": "stdout",
     "output_type": "stream",
     "text": [
      "[3, 6, 5, 8, 33, 12, 7, 4, 72, 2, 42, 13]\n",
      "[3, 6, 13, 5, 7, 89, 12, 3, 33, 34, 1, 344, 42]\n",
      "[3, 6, 5, 33, 12, 7, 42, 13]\n"
     ]
    }
   ],
   "source": [
    "file1 = \"C://Users//AHNARIN//Desktop//Ahnarin//100_days_of_coding//day26of100//file1.txt\" \n",
    "file2 = \"C://Users//AHNARIN//Desktop//Ahnarin//100_days_of_coding//day26of100//file2.txt\"\n",
    "\n",
    "file1_values = []\n",
    "file2_values = []\n",
    "\n",
    "\n",
    "with open(file1, 'r') as file:\n",
    "    for line in file:\n",
    "        number = int(line)\n",
    "        file1_values.append(number)\n",
    "\n",
    "with open(file2, 'r') as file:\n",
    "    for line in file:\n",
    "        number = int(line)\n",
    "        file2_values.append(number)\n",
    "\n",
    "print(file1_values)\n",
    "print(file2_values)\n",
    "\n",
    "result = [x for x in file1_values if x in file2_values]\n",
    "\n",
    "\n",
    "print(result)\n",
    "\n"
   ]
  },
  {
   "cell_type": "code",
   "execution_count": 65,
   "id": "3bc34c41",
   "metadata": {},
   "outputs": [
    {
     "name": "stdout",
     "output_type": "stream",
     "text": [
      "['Alex', 'Beth', 'Caroline', 'Dave', 'Elanor', 'Freddie']\n"
     ]
    }
   ],
   "source": [
    "print(names)"
   ]
  },
  {
   "cell_type": "code",
   "execution_count": 66,
   "id": "aa6a709a",
   "metadata": {},
   "outputs": [
    {
     "name": "stdout",
     "output_type": "stream",
     "text": [
      "{'Alex': 89, 'Beth': 90}\n"
     ]
    }
   ],
   "source": [
    "students_score = {\n",
    "    \"Alex\": 89,\n",
    "    \"Beth\": 90\n",
    "}\n",
    "print(students_score)"
   ]
  },
  {
   "cell_type": "code",
   "execution_count": 83,
   "id": "21686e45",
   "metadata": {},
   "outputs": [
    {
     "name": "stdout",
     "output_type": "stream",
     "text": [
      "{'Alex': 22, 'Beth': 52, 'Caroline': 77, 'Dave': 65, 'Elanor': 59, 'Freddie': 86}\n"
     ]
    }
   ],
   "source": [
    "# new_dict = {new_key:new_value for (key,value) in dict.items() if statements}\n",
    "import random\n",
    "\n",
    "students_score = {student:random.randint(1,100) for student in names }\n",
    "print(students_score)\n"
   ]
  },
  {
   "cell_type": "code",
   "execution_count": 85,
   "id": "b4805976",
   "metadata": {},
   "outputs": [
    {
     "name": "stdout",
     "output_type": "stream",
     "text": [
      "{'Beth': 52, 'Caroline': 77, 'Dave': 65, 'Elanor': 59, 'Freddie': 86}\n"
     ]
    }
   ],
   "source": [
    "# picked_values = {key: value for key, value in my_dict.items() if value > 3}\n",
    "# print(picked_values)  # Output: {'d': 4, 'e': 5}\n",
    "\n",
    "passed_students = {key: value for (key , value) in students_score.items() if value > 40 }\n",
    "print(passed_students)"
   ]
  },
  {
   "attachments": {},
   "cell_type": "markdown",
   "id": "4b83b7ba",
   "metadata": {},
   "source": [
    "It is a good idea to save all data from passed_students dictionary into .csv file"
   ]
  },
  {
   "cell_type": "code",
   "execution_count": 89,
   "id": "cf7cc7a1",
   "metadata": {},
   "outputs": [
    {
     "name": "stdout",
     "output_type": "stream",
     "text": [
      "Data has been saved to passed_students.csv.\n"
     ]
    }
   ],
   "source": [
    "import csv\n",
    "\n",
    "file_name = \"passed_students.csv\"\n",
    "\n",
    "with open(file_name, \"w\" , newline=\"\") as file:\n",
    "    writter = csv.writer(file)\n",
    "\n",
    "    # writter.writerow(passed_students.keys())\n",
    "\n",
    "\n",
    "    for key, value in students_score.items():\n",
    "        writter.writerow([key, value])\n",
    "\n",
    "print(f\"Data has been saved to {file_name}.\")"
   ]
  }
 ],
 "metadata": {
  "kernelspec": {
   "display_name": "Python 3 (ipykernel)",
   "language": "python",
   "name": "python3"
  },
  "language_info": {
   "codemirror_mode": {
    "name": "ipython",
    "version": 3
   },
   "file_extension": ".py",
   "mimetype": "text/x-python",
   "name": "python",
   "nbconvert_exporter": "python",
   "pygments_lexer": "ipython3",
   "version": "3.10.9"
  }
 },
 "nbformat": 4,
 "nbformat_minor": 5
}
