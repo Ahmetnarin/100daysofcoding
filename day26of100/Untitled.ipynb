{
 "cells": [
  {
   "cell_type": "code",
   "execution_count": 1,
   "id": "49e2cc6b",
   "metadata": {},
   "outputs": [
    {
     "name": "stdout",
     "output_type": "stream",
     "text": [
      "Hello World\n"
     ]
    }
   ],
   "source": [
    "print(\"Hello World\")"
   ]
  },
  {
   "cell_type": "code",
   "execution_count": 6,
   "id": "e84187ec",
   "metadata": {},
   "outputs": [
    {
     "name": "stdout",
     "output_type": "stream",
     "text": [
      "[1, 2, 3]\n",
      "[4]\n"
     ]
    }
   ],
   "source": [
    "numbers = [1,2,3]\n",
    "new_list = []\n",
    "\n",
    "for n in numbers:\n",
    "    add_1 = n+1\n",
    "\n",
    "new_list.append(add_1)\n",
    "\n",
    "print(numbers)\n",
    "print(new_list)\n",
    "\n",
    "\n"
   ]
  },
  {
   "cell_type": "code",
   "execution_count": 7,
   "id": "6c2fd3e1",
   "metadata": {},
   "outputs": [],
   "source": [
    "new_list = [n+1 for n in numbers]"
   ]
  },
  {
   "cell_type": "code",
   "execution_count": 8,
   "id": "2989eaaf",
   "metadata": {},
   "outputs": [
    {
     "name": "stdout",
     "output_type": "stream",
     "text": [
      "[2, 3, 4]\n"
     ]
    }
   ],
   "source": [
    "print(new_list)"
   ]
  },
  {
   "cell_type": "code",
   "execution_count": 15,
   "id": "49ed260e",
   "metadata": {},
   "outputs": [
    {
     "name": "stdout",
     "output_type": "stream",
     "text": [
      "[2, 4, 6, 8]\n"
     ]
    }
   ],
   "source": [
    "double = [x*2 for x in range(1,5)]\n",
    "print(double)"
   ]
  },
  {
   "cell_type": "code",
   "execution_count": 11,
   "id": "a88c39c6",
   "metadata": {},
   "outputs": [
    {
     "name": "stdout",
     "output_type": "stream",
     "text": [
      "[2, 3, 4]\n"
     ]
    }
   ],
   "source": [
    "new_numbers = [n+1 for n in numbers]\n",
    "print(new_numbers)\n"
   ]
  },
  {
   "cell_type": "code",
   "execution_count": 12,
   "id": "1072a186",
   "metadata": {},
   "outputs": [
    {
     "name": "stdout",
     "output_type": "stream",
     "text": [
      "['A', 'h', 'm', 'e', 't']\n"
     ]
    }
   ],
   "source": [
    "name = \"Ahmet\"\n",
    "letters_list = [letter for letter in name]\n",
    "print(letters_list)\n"
   ]
  },
  {
   "cell_type": "code",
   "execution_count": null,
   "id": "a68c5e6e",
   "metadata": {},
   "outputs": [],
   "source": []
  }
 ],
 "metadata": {
  "kernelspec": {
   "display_name": "Python 3 (ipykernel)",
   "language": "python",
   "name": "python3"
  },
  "language_info": {
   "codemirror_mode": {
    "name": "ipython",
    "version": 3
   },
   "file_extension": ".py",
   "mimetype": "text/x-python",
   "name": "python",
   "nbconvert_exporter": "python",
   "pygments_lexer": "ipython3",
   "version": "3.10.9"
  }
 },
 "nbformat": 4,
 "nbformat_minor": 5
}
