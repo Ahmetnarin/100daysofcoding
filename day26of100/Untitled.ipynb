{
 "cells": [
  {
   "cell_type": "code",
   "execution_count": 1,
   "id": "49e2cc6b",
   "metadata": {},
   "outputs": [
    {
     "name": "stdout",
     "output_type": "stream",
     "text": [
      "Hello World\n"
     ]
    }
   ],
   "source": [
    "print(\"Hello World\")"
   ]
  },
  {
   "cell_type": "code",
   "execution_count": 6,
   "id": "e84187ec",
   "metadata": {},
   "outputs": [
    {
     "name": "stdout",
     "output_type": "stream",
     "text": [
      "[1, 2, 3]\n",
      "[4]\n"
     ]
    }
   ],
   "source": [
    "numbers = [1,2,3]\n",
    "new_list = []\n",
    "\n",
    "for n in numbers:\n",
    "    add_1 = n+1\n",
    "\n",
    "new_list.append(add_1)\n",
    "\n",
    "print(numbers)\n",
    "print(new_list)\n",
    "\n",
    "\n"
   ]
  },
  {
   "cell_type": "code",
   "execution_count": 7,
   "id": "6c2fd3e1",
   "metadata": {},
   "outputs": [],
   "source": [
    "new_list = [n+1 for n in numbers]"
   ]
  },
  {
   "cell_type": "code",
   "execution_count": 8,
   "id": "2989eaaf",
   "metadata": {},
   "outputs": [
    {
     "name": "stdout",
     "output_type": "stream",
     "text": [
      "[2, 3, 4]\n"
     ]
    }
   ],
   "source": [
    "print(new_list)"
   ]
  },
  {
   "cell_type": "code",
   "execution_count": 15,
   "id": "49ed260e",
   "metadata": {},
   "outputs": [
    {
     "name": "stdout",
     "output_type": "stream",
     "text": [
      "[2, 4, 6, 8]\n"
     ]
    }
   ],
   "source": [
    "double = [x*2 for x in range(1,5)]\n",
    "print(double)"
   ]
  },
  {
   "cell_type": "code",
   "execution_count": 11,
   "id": "a88c39c6",
   "metadata": {},
   "outputs": [
    {
     "name": "stdout",
     "output_type": "stream",
     "text": [
      "[2, 3, 4]\n"
     ]
    }
   ],
   "source": [
    "new_numbers = [n+1 for n in numbers]\n",
    "print(new_numbers)\n"
   ]
  },
  {
   "cell_type": "code",
   "execution_count": 12,
   "id": "1072a186",
   "metadata": {},
   "outputs": [
    {
     "name": "stdout",
     "output_type": "stream",
     "text": [
      "['A', 'h', 'm', 'e', 't']\n"
     ]
    }
   ],
   "source": [
    "name = \"Ahmet\"\n",
    "letters_list = [letter for letter in name]\n",
    "print(letters_list)\n"
   ]
  },
  {
   "cell_type": "code",
   "execution_count": 18,
   "id": "5c438385",
   "metadata": {},
   "outputs": [
    {
     "name": "stdout",
     "output_type": "stream",
     "text": [
      "['Alex', 'Beth', 'Caroline', 'Dave', 'Elanor', 'Freddie']\n"
     ]
    }
   ],
   "source": [
    "names = [\"Alex\", \"Beth\" , \"Caroline\" , \"Dave\", \"Elanor\", \"Freddie\"]\n",
    "print(names)\n"
   ]
  },
  {
   "cell_type": "code",
   "execution_count": 24,
   "id": "29385bb1",
   "metadata": {},
   "outputs": [
    {
     "name": "stdout",
     "output_type": "stream",
     "text": [
      "['CAROLINE', 'ELANOR', 'FREDDIE']\n"
     ]
    }
   ],
   "source": [
    "long_names = [name.upper() for name in names if len(name) > 5]\n",
    "\n",
    "print(long_names)"
   ]
  },
  {
   "cell_type": "code",
   "execution_count": 25,
   "id": "a5baf324",
   "metadata": {},
   "outputs": [
    {
     "name": "stdout",
     "output_type": "stream",
     "text": [
      "[1, 1, 4, 9, 25, 64, 169, 441, 1156, 3025]\n"
     ]
    }
   ],
   "source": [
    "numbers = [1, 1, 2, 3, 5, 8, 13, 21, 34, 55]\n",
    "# 🚨 Do Not Change the code above 👆\n",
    "\n",
    "#Write your 1 line code 👇 below:\n",
    "squared_numbers = [number**2 for number in numbers]\n",
    "#Write your code 👆 above:\n",
    "\n",
    "print(squared_numbers)\n",
    "\n"
   ]
  },
  {
   "cell_type": "code",
   "execution_count": 27,
   "id": "1a47ebff",
   "metadata": {},
   "outputs": [
    {
     "name": "stdout",
     "output_type": "stream",
     "text": [
      "[2, 8, 34]\n"
     ]
    }
   ],
   "source": [
    "numbers = [1, 1, 2, 3, 5, 8, 13, 21, 34, 55]\n",
    "# 🚨 Do Not Change the code above\n",
    "\n",
    "#Write your 1 line code 👇 below:\n",
    "result = [x for x in numbers if x%2 == 0]\n",
    "#Write your code 👆 above:\n",
    "print(result)"
   ]
  },
  {
   "cell_type": "code",
   "execution_count": 64,
   "id": "095ad83c",
   "metadata": {},
   "outputs": [
    {
     "name": "stdout",
     "output_type": "stream",
     "text": [
      "[3, 6, 5, 8, 33, 12, 7, 4, 72, 2, 42, 13]\n",
      "[3, 6, 13, 5, 7, 89, 12, 3, 33, 34, 1, 344, 42]\n",
      "[3, 6, 5, 33, 12, 7, 42, 13]\n"
     ]
    }
   ],
   "source": [
    "file1 = \"C://Users//AHNARIN//Desktop//Ahnarin//100_days_of_coding//day26of100//file1.txt\" \n",
    "file2 = \"C://Users//AHNARIN//Desktop//Ahnarin//100_days_of_coding//day26of100//file2.txt\"\n",
    "\n",
    "file1_values = []\n",
    "file2_values = []\n",
    "\n",
    "\n",
    "with open(file1, 'r') as file:\n",
    "    for line in file:\n",
    "        number = int(line)\n",
    "        file1_values.append(number)\n",
    "\n",
    "with open(file2, 'r') as file:\n",
    "    for line in file:\n",
    "        number = int(line)\n",
    "        file2_values.append(number)\n",
    "\n",
    "print(file1_values)\n",
    "print(file2_values)\n",
    "\n",
    "result = [x for x in file1_values if x in file2_values]\n",
    "\n",
    "\n",
    "print(result)\n",
    "\n"
   ]
  },
  {
   "cell_type": "code",
   "execution_count": null,
   "id": "3bc34c41",
   "metadata": {},
   "outputs": [],
   "source": []
  },
  {
   "cell_type": "code",
   "execution_count": null,
   "id": "a411cb79",
   "metadata": {},
   "outputs": [],
   "source": []
  }
 ],
 "metadata": {
  "kernelspec": {
   "display_name": "Python 3 (ipykernel)",
   "language": "python",
   "name": "python3"
  },
  "language_info": {
   "codemirror_mode": {
    "name": "ipython",
    "version": 3
   },
   "file_extension": ".py",
   "mimetype": "text/x-python",
   "name": "python",
   "nbconvert_exporter": "python",
   "pygments_lexer": "ipython3",
   "version": "3.10.9"
  }
 },
 "nbformat": 4,
 "nbformat_minor": 5
}
