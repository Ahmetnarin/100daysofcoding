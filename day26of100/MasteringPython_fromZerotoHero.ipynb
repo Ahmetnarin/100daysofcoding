{
 "cells": [
  {
   "cell_type": "code",
   "execution_count": 4,
   "id": "49e2cc6b",
   "metadata": {},
   "outputs": [
    {
     "name": "stdout",
     "output_type": "stream",
     "text": [
      "Hello World\n"
     ]
    }
   ],
   "source": [
    "print(\"Hello World\")"
   ]
  },
  {
   "cell_type": "markdown",
   "id": "2132b259",
   "metadata": {},
   "source": [
    "# This is Python Tutorial"
   ]
  },
  {
   "cell_type": "markdown",
   "id": "6991005f",
   "metadata": {},
   "source": [
    "This is my first program in python: It is just started here"
   ]
  },
  {
   "cell_type": "code",
   "execution_count": 2,
   "id": "35647413",
   "metadata": {},
   "outputs": [
    {
     "name": "stdout",
     "output_type": "stream",
     "text": [
      "Hello World, again!\n"
     ]
    }
   ],
   "source": [
    "print(\"Hello World, again!\")"
   ]
  },
  {
   "cell_type": "code",
   "execution_count": 3,
   "id": "3cf4e3cb",
   "metadata": {},
   "outputs": [
    {
     "name": "stdout",
     "output_type": "stream",
     "text": [
      "<class 'int'>\n"
     ]
    }
   ],
   "source": [
    "a = 5\n",
    "print(type(a))"
   ]
  },
  {
   "cell_type": "code",
   "execution_count": 7,
   "id": "683987f2",
   "metadata": {},
   "outputs": [
    {
     "name": "stdout",
     "output_type": "stream",
     "text": [
      "<class 'int'>\n"
     ]
    }
   ],
   "source": [
    "x = 2\n",
    "print(type(x))"
   ]
  },
  {
   "cell_type": "code",
   "execution_count": 8,
   "id": "cc753323",
   "metadata": {},
   "outputs": [
    {
     "name": "stdout",
     "output_type": "stream",
     "text": [
      "Variable   Type    Data/Info\n",
      "----------------------------\n",
      "a          int     5\n",
      "x          int     2\n"
     ]
    }
   ],
   "source": [
    "%whos"
   ]
  },
  {
   "cell_type": "code",
   "execution_count": 15,
   "id": "e3e8be8f",
   "metadata": {},
   "outputs": [
    {
     "name": "stdout",
     "output_type": "stream",
     "text": [
      "Variable   Type     Data/Info\n",
      "-----------------------------\n",
      "a          int      1\n",
      "b          int      2\n",
      "c          int      3\n",
      "d          int      4\n",
      "e          int      5\n",
      "f          float    6.7\n",
      "x          int      2\n",
      "y          float    5.7\n"
     ]
    }
   ],
   "source": [
    "a,b,c,d,e,f = 1,2,3,4,5,6.7\n",
    "%whos"
   ]
  },
  {
   "cell_type": "code",
   "execution_count": 17,
   "id": "c9eb9686",
   "metadata": {},
   "outputs": [],
   "source": [
    "del a, b, c, d"
   ]
  },
  {
   "cell_type": "code",
   "execution_count": 18,
   "id": "bc61cf34",
   "metadata": {},
   "outputs": [
    {
     "name": "stdout",
     "output_type": "stream",
     "text": [
      "Variable   Type     Data/Info\n",
      "-----------------------------\n",
      "e          int      5\n",
      "f          float    6.7\n",
      "x          int      2\n",
      "y          float    5.7\n"
     ]
    }
   ],
   "source": [
    "%whos"
   ]
  },
  {
   "cell_type": "code",
   "execution_count": 2,
   "id": "a3ecb69a",
   "metadata": {},
   "outputs": [
    {
     "name": "stdout",
     "output_type": "stream",
     "text": [
      "True\n",
      "False\n",
      "True\n"
     ]
    }
   ],
   "source": [
    "print(isinstance(1,int))\n",
    "print(isinstance(1.0,int))\n",
    "print(isinstance(1.0,(int,float)))"
   ]
  },
  {
   "cell_type": "code",
   "execution_count": 4,
   "id": "7e0b8a47",
   "metadata": {},
   "outputs": [
    {
     "name": "stdout",
     "output_type": "stream",
     "text": [
      "{'New York': 32, 'Boston': 75, 'Los Angeles': 100, 'Chicago': 50}\n",
      "{'New York': 0, 'Boston': 23, 'Los Angeles': 37, 'Chicago': 10}\n"
     ]
    }
   ],
   "source": [
    "cities_in_F = {\"New York\": 32 , \"Boston\": 75, \"Los Angeles\": 100, \"Chicago\": 50}\n",
    "print(cities_in_F)\n",
    "cities_in_C = {key: int((value - 32 ) *(5/9)) for (key,value) in cities_in_F.items()}\n",
    "print(cities_in_C)"
   ]
  }
 ],
 "metadata": {
  "kernelspec": {
   "display_name": "Python 3 (ipykernel)",
   "language": "python",
   "name": "python3"
  },
  "language_info": {
   "codemirror_mode": {
    "name": "ipython",
    "version": 3
   },
   "file_extension": ".py",
   "mimetype": "text/x-python",
   "name": "python",
   "nbconvert_exporter": "python",
   "pygments_lexer": "ipython3",
   "version": "3.10.0"
  }
 },
 "nbformat": 4,
 "nbformat_minor": 5
}
